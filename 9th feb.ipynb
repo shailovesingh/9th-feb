{
 "cells": [
  {
   "cell_type": "markdown",
   "id": "5514c44d-8956-4175-884c-1df01f974fa4",
   "metadata": {},
   "source": [
    "Q1"
   ]
  },
  {
   "cell_type": "code",
   "execution_count": 1,
   "id": "15e7180f-0d35-4570-9186-97150c071cb9",
   "metadata": {},
   "outputs": [],
   "source": [
    "class vehicle:\n",
    "    \n",
    "    def __init__(self , name , speed , average):\n",
    "        self.name_of_vehicle = name\n",
    "        self.max_speed = speed\n",
    "        self.average_of_vehicle = average\n",
    "        \n",
    "    def Details_vehicle(self):\n",
    "        return (self.name_of_vehicle , self.max_speed , self.average_of_vehicle)"
   ]
  },
  {
   "cell_type": "code",
   "execution_count": 2,
   "id": "1aa4686b-d043-46df-9e4d-9e773d8b9451",
   "metadata": {},
   "outputs": [],
   "source": [
    "v = vehicle(\"Activa\", \"120KMPH\" , \"50KM\")"
   ]
  },
  {
   "cell_type": "code",
   "execution_count": 3,
   "id": "2879e131-4dc4-43be-adbb-4b9497b27d84",
   "metadata": {},
   "outputs": [
    {
     "data": {
      "text/plain": [
       "('Activa', '120KMPH', '50KM')"
      ]
     },
     "execution_count": 3,
     "metadata": {},
     "output_type": "execute_result"
    }
   ],
   "source": [
    "v.Details_vehicle()"
   ]
  },
  {
   "cell_type": "markdown",
   "id": "35e024e2-b594-4bb4-925d-4b8a6a57a713",
   "metadata": {},
   "source": [
    "Q2"
   ]
  },
  {
   "cell_type": "code",
   "execution_count": 4,
   "id": "1fdb8435-9dc3-485c-b429-2e112840d8f9",
   "metadata": {},
   "outputs": [],
   "source": [
    "class Vehicle:\n",
    "    \n",
    "    def __init__(self , name , speed , average):\n",
    "        self.name_of_vehicle = name\n",
    "        self.max_speed = speed\n",
    "        self.average_of_vehicle = average\n",
    "    \n",
    "    def Details_vehicle(self):\n",
    "        return (self.name_of_vehicle , self.max_speed , self.average_of_vehicle)\n",
    "    \n",
    "class Car(Vehicle):\n",
    "    \n",
    "    def __init__(self, name , speed , average, capacity):\n",
    "        super().__init__( name , speed , average)\n",
    "        self.seating_capacity = capacity"
   ]
  },
  {
   "cell_type": "code",
   "execution_count": 5,
   "id": "195c6149-e654-4bd3-b63c-b60186b20a53",
   "metadata": {},
   "outputs": [],
   "source": [
    "c = Car(\"Swift desire\",\"270-KMPH\",\"26kmph\",4)"
   ]
  },
  {
   "cell_type": "code",
   "execution_count": 6,
   "id": "07ade841-2f12-41a7-811d-fe61926b39b4",
   "metadata": {},
   "outputs": [
    {
     "name": "stdout",
     "output_type": "stream",
     "text": [
      "Name of car is Swift desire\n",
      "Seating capacity is 4\n"
     ]
    }
   ],
   "source": [
    "print(\"Name of car is\",c.name_of_vehicle)\n",
    "print(\"Seating capacity is\",c.seating_capacity)"
   ]
  },
  {
   "cell_type": "markdown",
   "id": "89d9cee5-02ee-49e7-b1e5-c03d450bdd05",
   "metadata": {},
   "source": [
    "Q3.\n",
    "\n",
    "Multiple inheritance is the inheritance in which child class is derived from multiple parent class"
   ]
  },
  {
   "cell_type": "code",
   "execution_count": 7,
   "id": "8b34350b-3ca3-4ea8-b3b2-55ed3b3eb289",
   "metadata": {},
   "outputs": [],
   "source": [
    "class country:\n",
    "    office = 'New Delhi'\n",
    "\n",
    "class state:\n",
    "    office = 'Mumbai'\n",
    "    \n",
    "class District( country , state):\n",
    "    office = \"Nagpur\""
   ]
  },
  {
   "cell_type": "code",
   "execution_count": 8,
   "id": "d632a510-ffbc-42b5-8a87-f991d13751c1",
   "metadata": {},
   "outputs": [],
   "source": [
    "d = District()"
   ]
  },
  {
   "cell_type": "code",
   "execution_count": 9,
   "id": "6e624a2d-06b0-4edb-b311-a6499b5e523c",
   "metadata": {},
   "outputs": [
    {
     "data": {
      "text/plain": [
       "'Nagpur'"
      ]
     },
     "execution_count": 9,
     "metadata": {},
     "output_type": "execute_result"
    }
   ],
   "source": [
    "d.office"
   ]
  },
  {
   "cell_type": "markdown",
   "id": "35f93d86-9543-4e14-8155-0f98c41795b6",
   "metadata": {},
   "source": [
    "Q4.\n",
    "\n",
    "Setters are called \"Mutators\" this are used to set the variabes or instances. Getters are called \"Accessors\" in this we will access the information which we set in setters"
   ]
  },
  {
   "cell_type": "code",
   "execution_count": 10,
   "id": "65db5ca6-e9d1-485e-912e-24cca299c57c",
   "metadata": {},
   "outputs": [],
   "source": [
    "class Student:\n",
    "    #Setters\n",
    "    def SetDetails(self, a , b):\n",
    "        self.name = a\n",
    "        self.age = b\n",
    "        \n",
    "    #Getters\n",
    "    def GetDetails(self):\n",
    "        print(self.name,self.age)"
   ]
  },
  {
   "cell_type": "code",
   "execution_count": 11,
   "id": "ffd4e731-6813-4034-970c-e837f5d9ef48",
   "metadata": {},
   "outputs": [],
   "source": [
    "s1 = Student()\n",
    "s2 = Student()"
   ]
  },
  {
   "cell_type": "code",
   "execution_count": 12,
   "id": "834b6ce7-9627-4076-85a5-ab3bf3f8f44a",
   "metadata": {},
   "outputs": [],
   "source": [
    "s1.SetDetails(\"Shailove\",22)\n",
    "s2.SetDetails(\"Madara\",1000)"
   ]
  },
  {
   "cell_type": "code",
   "execution_count": 13,
   "id": "b6a9236e-4a9f-48e5-b404-128d49323f80",
   "metadata": {},
   "outputs": [
    {
     "data": {
      "text/plain": [
       "'Shailove'"
      ]
     },
     "execution_count": 13,
     "metadata": {},
     "output_type": "execute_result"
    }
   ],
   "source": [
    "s1.name"
   ]
  },
  {
   "cell_type": "code",
   "execution_count": 14,
   "id": "dd5f2685-19ac-4604-99e1-bb0e08f0abd8",
   "metadata": {},
   "outputs": [
    {
     "data": {
      "text/plain": [
       "'Madara'"
      ]
     },
     "execution_count": 14,
     "metadata": {},
     "output_type": "execute_result"
    }
   ],
   "source": [
    "s2.name"
   ]
  },
  {
   "cell_type": "markdown",
   "id": "3bbd5079-466a-46ac-9ad3-96d0a599c4ad",
   "metadata": {},
   "source": [
    "Q5.\n",
    "\n",
    "Method overiding is always ther in inheritance. Suppose if we define same methods in both child and parent class then after making child object and call then child object gives priority to its own method rather than parent class.\n",
    "\n",
    "That means child class method override the parent class method"
   ]
  },
  {
   "cell_type": "code",
   "execution_count": 15,
   "id": "fdddb820-4031-4897-91c0-6811a036104a",
   "metadata": {},
   "outputs": [],
   "source": [
    "class Add:\n",
    "    def result(self,a,b):\n",
    "        print(\"Addition is \" , a+b)\n",
    "        \n",
    "class Mul(Add):\n",
    "    def result(self,a,b):\n",
    "        print(\"Multiplication is \" ,a*b)"
   ]
  },
  {
   "cell_type": "code",
   "execution_count": 16,
   "id": "ea4576f6-c361-4978-9551-0c0df8f7d114",
   "metadata": {},
   "outputs": [],
   "source": [
    "m = Mul()"
   ]
  },
  {
   "cell_type": "code",
   "execution_count": 17,
   "id": "93f6024b-d34b-4494-a78c-f9302f61c5fc",
   "metadata": {},
   "outputs": [
    {
     "name": "stdout",
     "output_type": "stream",
     "text": [
      "Multiplication is  0\n"
     ]
    }
   ],
   "source": [
    "m.result(10,0)"
   ]
  },
  {
   "cell_type": "markdown",
   "id": "97f05570-0cbe-44d2-b2e3-bf850e7aca13",
   "metadata": {},
   "source": [
    "Suppose if child class don't have method then only it goes to parent class method"
   ]
  },
  {
   "cell_type": "code",
   "execution_count": 18,
   "id": "fab50b6f-ef66-4dc2-b9c2-4b46bb6c82c5",
   "metadata": {},
   "outputs": [],
   "source": [
    "class Add:\n",
    "    def result(self,a,b):\n",
    "        print(\"Addition is \" , a+b)\n",
    "        \n",
    "class Mul(Add):\n",
    "    pass"
   ]
  },
  {
   "cell_type": "code",
   "execution_count": 19,
   "id": "d248c9a1-6766-4bdc-b366-a931fbae06e4",
   "metadata": {},
   "outputs": [],
   "source": [
    "m = Mul()"
   ]
  },
  {
   "cell_type": "code",
   "execution_count": 20,
   "id": "c3e77b4d-07f3-4185-b71f-55e469d7c94a",
   "metadata": {},
   "outputs": [
    {
     "name": "stdout",
     "output_type": "stream",
     "text": [
      "Addition is  10\n"
     ]
    }
   ],
   "source": [
    "m.result(10,0)"
   ]
  },
  {
   "cell_type": "code",
   "execution_count": null,
   "id": "95ed2e1c-c65e-4013-b819-1aa9c0efa3a2",
   "metadata": {},
   "outputs": [],
   "source": []
  }
 ],
 "metadata": {
  "kernelspec": {
   "display_name": "Python 3 (ipykernel)",
   "language": "python",
   "name": "python3"
  },
  "language_info": {
   "codemirror_mode": {
    "name": "ipython",
    "version": 3
   },
   "file_extension": ".py",
   "mimetype": "text/x-python",
   "name": "python",
   "nbconvert_exporter": "python",
   "pygments_lexer": "ipython3",
   "version": "3.10.8"
  }
 },
 "nbformat": 4,
 "nbformat_minor": 5
}
